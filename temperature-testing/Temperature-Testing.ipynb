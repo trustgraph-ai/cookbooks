{
 "cells": [
  {
   "cell_type": "markdown",
   "id": "bbed5764-abd0-4e92-8627-eb4315dd3e6e",
   "metadata": {},
   "source": [
    "# Temperature Testing with Google AI Studio\n",
    "\n",
    "This notebook is setup to test two different PDFs with `Gemini-1.5-Flash-002` with a set knowledge extraction JSON schema."
   ]
  },
  {
   "cell_type": "code",
   "execution_count": 3,
   "id": "70223665-be46-4dd6-a2e2-d97818224185",
   "metadata": {},
   "outputs": [
    {
     "name": "stdout",
     "output_type": "stream",
     "text": [
      "\n",
      "\u001b[1m[\u001b[0m\u001b[34;49mnotice\u001b[0m\u001b[1;39;49m]\u001b[0m\u001b[39;49m A new release of pip is available: \u001b[0m\u001b[31;49m24.2\u001b[0m\u001b[39;49m -> \u001b[0m\u001b[32;49m24.3.1\u001b[0m\n",
      "\u001b[1m[\u001b[0m\u001b[34;49mnotice\u001b[0m\u001b[1;39;49m]\u001b[0m\u001b[39;49m To update, run: \u001b[0m\u001b[32;49mpip install --upgrade pip\u001b[0m\n",
      "Note: you may need to restart the kernel to use updated packages.\n"
     ]
    }
   ],
   "source": [
    "pip install --upgrade --quiet google.generativeai"
   ]
  },
  {
   "cell_type": "code",
   "execution_count": 4,
   "id": "4485c535-efef-4ef7-81d1-853f10b2053a",
   "metadata": {},
   "outputs": [
    {
     "name": "stdout",
     "output_type": "stream",
     "text": [
      "\u001b[31mERROR: pip's dependency resolver does not currently take into account all the packages that are installed. This behaviour is the source of the following dependency conflicts.\n",
      "google-generativeai 0.8.3 requires google-ai-generativelanguage==0.6.10, but you have google-ai-generativelanguage 0.6.11 which is incompatible.\u001b[0m\u001b[31m\n",
      "\u001b[0m\n",
      "\u001b[1m[\u001b[0m\u001b[34;49mnotice\u001b[0m\u001b[1;39;49m]\u001b[0m\u001b[39;49m A new release of pip is available: \u001b[0m\u001b[31;49m24.2\u001b[0m\u001b[39;49m -> \u001b[0m\u001b[32;49m24.3.1\u001b[0m\n",
      "\u001b[1m[\u001b[0m\u001b[34;49mnotice\u001b[0m\u001b[1;39;49m]\u001b[0m\u001b[39;49m To update, run: \u001b[0m\u001b[32;49mpip install --upgrade pip\u001b[0m\n",
      "Note: you may need to restart the kernel to use updated packages.\n"
     ]
    }
   ],
   "source": [
    "pip install --upgrade --quiet google.ai.generativelanguage"
   ]
  },
  {
   "cell_type": "code",
   "execution_count": 5,
   "id": "8b2fe0de-9566-4abd-9b7c-90589ab705e5",
   "metadata": {},
   "outputs": [
    {
     "name": "stdout",
     "output_type": "stream",
     "text": [
      "\n",
      "\u001b[1m[\u001b[0m\u001b[34;49mnotice\u001b[0m\u001b[1;39;49m]\u001b[0m\u001b[39;49m A new release of pip is available: \u001b[0m\u001b[31;49m24.2\u001b[0m\u001b[39;49m -> \u001b[0m\u001b[32;49m24.3.1\u001b[0m\n",
      "\u001b[1m[\u001b[0m\u001b[34;49mnotice\u001b[0m\u001b[1;39;49m]\u001b[0m\u001b[39;49m To update, run: \u001b[0m\u001b[32;49mpip install --upgrade pip\u001b[0m\n",
      "Note: you may need to restart the kernel to use updated packages.\n"
     ]
    }
   ],
   "source": [
    "pip install --upgrade --quiet pypdf"
   ]
  },
  {
   "cell_type": "code",
   "execution_count": 6,
   "id": "8ea93025-2e52-43a5-b943-b2a8e4ef052e",
   "metadata": {},
   "outputs": [],
   "source": [
    "import google.generativeai as genai\n",
    "import time\n",
    "import json\n",
    "import re\n",
    "from google.generativeai.types import HarmCategory, HarmBlockThreshold\n",
    "from google.ai.generativelanguage_v1beta.types import content\n",
    "from pypdf import PdfReader"
   ]
  },
  {
   "cell_type": "code",
   "execution_count": 7,
   "id": "11ebe3bf-2ad8-4044-b751-75c0a2c6c576",
   "metadata": {},
   "outputs": [],
   "source": [
    "# Add paths to PDFs here\n",
    "path1=f\"Challenger-Report-Vol1.pdf\"\n",
    "path2=f\"Columbia-Options-Assessment.pdf\""
   ]
  },
  {
   "cell_type": "code",
   "execution_count": 8,
   "id": "907df842-f4d3-4dd4-9b6b-9d104dc8042e",
   "metadata": {},
   "outputs": [],
   "source": [
    "reader1 = PdfReader(path1)\n",
    "reader2 = PdfReader(path2)"
   ]
  },
  {
   "cell_type": "code",
   "execution_count": 9,
   "id": "91ae78f9-2ecc-417f-8f29-dd92d0c64d98",
   "metadata": {},
   "outputs": [],
   "source": [
    "pages1 = reader1.pages\n",
    "pages2 = reader2.pages"
   ]
  },
  {
   "cell_type": "code",
   "execution_count": 10,
   "id": "ca652bff-cf02-4ecb-a5e0-ef35a2631697",
   "metadata": {},
   "outputs": [],
   "source": [
    "text1 = f\"\"\n",
    "for page in pages1:\n",
    "    text1 += page.extract_text()\n",
    "\n",
    "text2 = f\"\"\n",
    "for page in pages2:\n",
    "    text2 += page.extract_text()"
   ]
  },
  {
   "cell_type": "code",
   "execution_count": 11,
   "id": "731487ed-0c57-46ad-8e56-f9a6c0001261",
   "metadata": {},
   "outputs": [
    {
     "name": "stdout",
     "output_type": "stream",
     "text": [
      "668029 85270\n"
     ]
    }
   ],
   "source": [
    "# Check to maksure the PDF extraction worked\n",
    "print(len(text1),len(text2))"
   ]
  },
  {
   "cell_type": "code",
   "execution_count": 12,
   "id": "1253b2d8-74c4-4a8c-93b9-23d681734167",
   "metadata": {},
   "outputs": [],
   "source": [
    "# Temperature can be set between 0.0 to 2.0\n",
    "temp = 1.5"
   ]
  },
  {
   "cell_type": "code",
   "execution_count": null,
   "id": "01fce6c3-53de-4905-8cb1-001e5216f732",
   "metadata": {},
   "outputs": [],
   "source": [
    "# Don't forget to set your Google AI Studio API key here\n",
    "genai.configure(api_key=api_key)"
   ]
  },
  {
   "cell_type": "code",
   "execution_count": 13,
   "id": "c2e9c8a9-bc1a-4f46-aa02-30e1131d9e1d",
   "metadata": {},
   "outputs": [],
   "source": [
    "\n",
    "generation_config = {\n",
    "  \"temperature\": temp,\n",
    "  \"top_p\": 1.0,\n",
    "  \"top_k\": 40,\n",
    "  \"max_output_tokens\": 8192,\n",
    "  \"response_schema\": content.Schema(\n",
    "    type = content.Type.OBJECT,\n",
    "    properties = {\n",
    "      \"documentType\": content.Schema(\n",
    "        type = content.Type.STRING,\n",
    "      ),\n",
    "      \"source\": content.Schema(\n",
    "        type = content.Type.OBJECT,\n",
    "        properties = {\n",
    "          \"name\": content.Schema(\n",
    "            type = content.Type.STRING,\n",
    "          ),\n",
    "          \"authors\": content.Schema(\n",
    "            type = content.Type.ARRAY,\n",
    "            items = content.Schema(\n",
    "              type = content.Type.STRING,\n",
    "            ),\n",
    "          ),\n",
    "          \"date\": content.Schema(\n",
    "            type = content.Type.STRING,\n",
    "          ),\n",
    "        },\n",
    "      ),\n",
    "      \"description\": content.Schema(\n",
    "        type = content.Type.STRING,\n",
    "      ),\n",
    "      \"keywords\": content.Schema(\n",
    "        type = content.Type.ARRAY,\n",
    "        items = content.Schema(\n",
    "          type = content.Type.STRING,\n",
    "        ),\n",
    "      ),\n",
    "      \"entities\": content.Schema(\n",
    "        type = content.Type.ARRAY,\n",
    "        items = content.Schema(\n",
    "          type = content.Type.OBJECT,\n",
    "          properties = {\n",
    "            \"name\": content.Schema(\n",
    "              type = content.Type.STRING,\n",
    "            ),\n",
    "            \"type\": content.Schema(\n",
    "              type = content.Type.STRING,\n",
    "            ),\n",
    "            \"context\": content.Schema(\n",
    "              type = content.Type.STRING,\n",
    "            ),\n",
    "          },\n",
    "        ),\n",
    "      ),\n",
    "      \"topics\": content.Schema(\n",
    "        type = content.Type.ARRAY,\n",
    "        items = content.Schema(\n",
    "          type = content.Type.OBJECT,\n",
    "          properties = {\n",
    "            \"topic\": content.Schema(\n",
    "              type = content.Type.STRING,\n",
    "            ),\n",
    "            \"importance\": content.Schema(\n",
    "              type = content.Type.STRING,\n",
    "            ),\n",
    "          },\n",
    "        ),\n",
    "      ),\n",
    "    },\n",
    "  ),\n",
    "  \"response_mime_type\": \"application/json\",\n",
    "}\n",
    "\n",
    "block_level = HarmBlockThreshold.BLOCK_ONLY_HIGH\n",
    "\n",
    "safety_settings={\n",
    "    HarmCategory.HARM_CATEGORY_HATE_SPEECH: block_level,\n",
    "    HarmCategory.HARM_CATEGORY_HARASSMENT: block_level,\n",
    "    HarmCategory.HARM_CATEGORY_SEXUALLY_EXPLICIT: block_level,\n",
    "    HarmCategory.HARM_CATEGORY_DANGEROUS_CONTENT: block_level,\n",
    "    #HarmCategory.HARM_CATEGORY_CIVIC_INTEGRITY: blocklevel\n",
    "}"
   ]
  },
  {
   "cell_type": "code",
   "execution_count": 14,
   "id": "b38412ba-fc2f-41ad-81db-77e69a4cb329",
   "metadata": {},
   "outputs": [],
   "source": [
    "model = genai.GenerativeModel(\n",
    "            model_name=\"gemini-1.5-flash-002\",\n",
    "            generation_config=generation_config,\n",
    "            safety_settings=safety_settings,\n",
    "            system_instruction=\"You are a helpful AI assistant that performs information retrieval. You extract knowledge from a provided text into the defined JSON schema. Entities could be people, places, organizations, groups, events, locations, and things. The context for entities is a brief description of the entity as it is described in the provided text. Topics are intangible concepts.\"\n",
    ")"
   ]
  },
  {
   "cell_type": "code",
   "execution_count": 228,
   "id": "88a3cf93-41d1-4733-9adb-a211e39edf54",
   "metadata": {},
   "outputs": [],
   "source": [
    "prompt = f\"{text1}\""
   ]
  },
  {
   "cell_type": "code",
   "execution_count": 229,
   "id": "60cfb4e5-4e75-4976-a17f-b43a042ccabf",
   "metadata": {},
   "outputs": [
    {
     "name": "stdout",
     "output_type": "stream",
     "text": [
      "Total time taken: 144.30 seconds\n"
     ]
    }
   ],
   "source": [
    "start_time = time.time()\n",
    "chat_session = model.start_chat(history=[])\n",
    "response = chat_session.send_message(prompt)\n",
    "end_time = time.time()\n",
    "total_time = end_time - start_time\n",
    "print(f\"Total time taken: {total_time:.2f} seconds\")"
   ]
  },
  {
   "cell_type": "code",
   "execution_count": 230,
   "id": "3d357e6a-017a-4870-b6d3-2eaf9b0c9082",
   "metadata": {},
   "outputs": [],
   "source": [
    "resp = response.text\n",
    "inputtokens = int(response.usage_metadata.prompt_token_count)\n",
    "outputtokens = int(response.usage_metadata.candidates_token_count)"
   ]
  },
  {
   "cell_type": "code",
   "execution_count": 231,
   "id": "70a2dc45-f130-498e-ab52-ba47153898bc",
   "metadata": {},
   "outputs": [
    {
     "name": "stdout",
     "output_type": "stream",
     "text": [
      "Schema Response:\n",
      "{\"description\": \"Report of the Presidential Commission on the Space Shuttle Challenger Accident.\", \"documentType\": \"report\", \"entities\": [{\"context\": \"President of the United States who appointed the commission.\", \"name\": \"Ronald Reagan\", \"type\": \"person\"}, {\"context\": \"Spacecraft that suffered an accident.\", \"name\": \"Challenger\", \"type\": \"spacecraft\"}, {\"context\": \"Organization that managed the Space Shuttle program.\", \"name\": \"NASA\", \"type\": \"organization\"}, {\"context\": \"Company that manufactured the Solid Rocket Boosters.\", \"name\": \"Morton Thiokol\", \"type\": \"organization\"}, {\"context\": \"Location where the Challenger accident occured.\", \"name\": \"Cape Canaveral\", \"type\": \"location\"}, {\"context\": \"Location where the Challenger investigation took place.\", \"name\": \"Washington, D.C.\", \"type\": \"location\"}, {\"context\": \"Person who chaired the Commission.\", \"name\": \"William P. Rogers\", \"type\": \"person\"}, {\"context\": \"Former astronaut and vice chairman of Commission.\", \"name\": \"Neil A. Armstrong\", \"type\": \"person\"}, {\"context\": \"Mission specialist on STS-7  American woman in space. Also flew on mission 41-G.\", \"name\": \"Sally K. Ride\", \"type\": \"person\"}, {\"context\": \"Physicist and Nobel Laureate on the Commission.\", \"name\": \"Richard P. Feynman\", \"type\": \"person\"}, {\"context\": \"Person responsible for the Solid Rocket Booster launch decision.\", \"name\": \"Lawrence B. Mulloy\", \"type\": \"person\"}, {\"context\": \"Thiokol engineer deeply concerned about o-king performance before the Challenger launch.\", \"name\": \"Roger Boisjoly\", \"type\": \"person\"}], \"keywords\": [\"Space Shuttle Challenger\", \"accident\", \"O-rings\", \"Solid Rocket Booster\", \"NASA\", \"Morton Thiokol\", \"safety\", \"investigation\", \"recommendations\"], \"source\": {\"authors\": [\"Presidential Commission on the Space Shuttle Challenger Accident\"], \"date\": \"June 6th, 1986\", \"name\": \"Report to the President\"}}\n",
      "\n",
      "\n",
      "Input Tokens: 176109\n",
      "Output Tokens: 453\n"
     ]
    }
   ],
   "source": [
    "print(f\"Schema Response:\\n{resp}\\n\\nInput Tokens: {inputtokens}\\nOutput Tokens: {outputtokens}\")"
   ]
  },
  {
   "cell_type": "code",
   "execution_count": 232,
   "id": "df9337df-4c19-4116-9c67-13e658ff63c5",
   "metadata": {},
   "outputs": [],
   "source": [
    "output = json.loads(resp)"
   ]
  },
  {
   "cell_type": "code",
   "execution_count": 233,
   "id": "abbaba6b-eff8-40b4-8d34-66aada570cb8",
   "metadata": {},
   "outputs": [
    {
     "name": "stdout",
     "output_type": "stream",
     "text": [
      "<re.Match object; span=(230, 236), match='Reagan'>\n"
     ]
    }
   ],
   "source": [
    "print(re.search('Reagan', resp))"
   ]
  },
  {
   "cell_type": "code",
   "execution_count": 234,
   "id": "1bd306c3-0772-4970-9252-f1df4dfbe23f",
   "metadata": {},
   "outputs": [
    {
     "name": "stdout",
     "output_type": "stream",
     "text": [
      "Number of Persons Found: 7\n",
      "---\n",
      "Name: Ronald Reagan\n",
      "Context: President of the United States who appointed the commission.\n",
      "---\n",
      "Name: William P. Rogers\n",
      "Context: Person who chaired the Commission.\n",
      "---\n",
      "Name: Neil A. Armstrong\n",
      "Context: Former astronaut and vice chairman of Commission.\n",
      "---\n",
      "Name: Sally K. Ride\n",
      "Context: Mission specialist on STS-7  American woman in space. Also flew on mission 41-G.\n",
      "---\n",
      "Name: Richard P. Feynman\n",
      "Context: Physicist and Nobel Laureate on the Commission.\n",
      "---\n",
      "Name: Lawrence B. Mulloy\n",
      "Context: Person responsible for the Solid Rocket Booster launch decision.\n",
      "---\n",
      "Name: Roger Boisjoly\n",
      "Context: Thiokol engineer deeply concerned about o-king performance before the Challenger launch.\n",
      "---\n"
     ]
    }
   ],
   "source": [
    "person_entities = []\n",
    "for entity in output['entities']:\n",
    "    if entity.get('type', '').lower() == 'person':\n",
    "        person_entities.append({\n",
    "            'name': entity.get('name', ''),\n",
    "            'context': entity.get('context', '')\n",
    "        })\n",
    "\n",
    "print(f\"Number of Persons Found: {len(person_entities)}\")\n",
    "print(\"---\")\n",
    "for person in person_entities:\n",
    "    print(f\"Name: {person['name']}\")\n",
    "    print(f\"Context: {person['context']}\")\n",
    "    print(\"---\")"
   ]
  },
  {
   "cell_type": "code",
   "execution_count": null,
   "id": "ef366fe1-3b02-4f63-a962-0883afa4d887",
   "metadata": {},
   "outputs": [],
   "source": []
  }
 ],
 "metadata": {
  "kernelspec": {
   "display_name": "Python 3 (ipykernel)",
   "language": "python",
   "name": "python3"
  },
  "language_info": {
   "codemirror_mode": {
    "name": "ipython",
    "version": 3
   },
   "file_extension": ".py",
   "mimetype": "text/x-python",
   "name": "python",
   "nbconvert_exporter": "python",
   "pygments_lexer": "ipython3",
   "version": "3.10.4"
  }
 },
 "nbformat": 4,
 "nbformat_minor": 5
}
